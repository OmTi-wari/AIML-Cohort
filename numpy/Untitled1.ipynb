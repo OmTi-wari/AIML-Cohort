{
 "cells": [
  {
   "cell_type": "markdown",
   "id": "8ad8fd17",
   "metadata": {},
   "source": [
    "# Importing NumPy\n",
    "NumPy is a fundamental package for scientific computing in Python. It provides support for arrays, matrices, and many mathematical functions.\n",
    "\n",
    "The following code imports NumPy and gives it the alias `np` for convenience."
   ]
  },
  {
   "cell_type": "code",
   "execution_count": 2,
   "id": "58fe77ca-8071-4e37-9095-b48f5f1cdc12",
   "metadata": {},
   "outputs": [],
   "source": [
    "import numpy as np"
   ]
  },
  {
   "cell_type": "markdown",
   "id": "9ab46f28",
   "metadata": {},
   "source": [
    "# Creating a 1D NumPy Array\n",
    "Here, a 1-dimensional NumPy array is created from a Python list. Arrays are the core data structure in NumPy and allow for efficient numerical operations."
   ]
  },
  {
   "cell_type": "code",
   "execution_count": 3,
   "id": "086c9404-9fcb-4e1b-af2f-77e049c24fa1",
   "metadata": {},
   "outputs": [
    {
     "data": {
      "text/plain": [
       "array([1, 2, 3, 4])"
      ]
     },
     "execution_count": 3,
     "metadata": {},
     "output_type": "execute_result"
    }
   ],
   "source": [
    "arr = np.array([1,2,3,4])\n",
    "arr"
   ]
  },
  {
   "cell_type": "markdown",
   "id": "e3d3d3c1",
   "metadata": {},
   "source": [
    "# Creating a Python List\n",
    "This step shows a regular Python list. Lists are flexible but do not support vectorized operations like NumPy arrays."
   ]
  },
  {
   "cell_type": "code",
   "execution_count": 4,
   "id": "ada5b2bf-01ac-4e05-9057-26600af2e0dc",
   "metadata": {},
   "outputs": [
    {
     "data": {
      "text/plain": [
       "[1, 2, 3, 4]"
      ]
     },
     "execution_count": 4,
     "metadata": {},
     "output_type": "execute_result"
    }
   ],
   "source": [
    "a = [1,2,3,4]\n",
    "a"
   ]
  },
  {
   "cell_type": "markdown",
   "id": "5eef8fd0",
   "metadata": {},
   "source": [
    "# Converting a List to a NumPy Array\n",
    "This step converts the Python list `a` into a NumPy array, enabling efficient numerical operations."
   ]
  },
  {
   "cell_type": "code",
   "execution_count": 5,
   "id": "f9ffc7e9-f41b-43ef-b20a-7a434aeafc80",
   "metadata": {},
   "outputs": [
    {
     "data": {
      "text/plain": [
       "array([1, 2, 3, 4])"
      ]
     },
     "execution_count": 5,
     "metadata": {},
     "output_type": "execute_result"
    }
   ],
   "source": [
    "np.array(a)\n"
   ]
  },
  {
   "cell_type": "markdown",
   "id": "3fe5fd9a",
   "metadata": {},
   "source": [
    "# Creating a Nested List for 2D Array\n",
    "A nested list is used to represent a 2D structure (matrix) in Python. This can be converted to a 2D NumPy array for matrix operations."
   ]
  },
  {
   "cell_type": "code",
   "execution_count": 57,
   "id": "b9158d74",
   "metadata": {},
   "outputs": [
    {
     "data": {
      "text/plain": [
       "[[1, 2, 3], [4, 5, 6], [7, 8, 9]]"
      ]
     },
     "execution_count": 57,
     "metadata": {},
     "output_type": "execute_result"
    }
   ],
   "source": [
    "l = [[1,2,3], [4,5,6],[7,8,9]]\n",
    "l"
   ]
  },
  {
   "cell_type": "markdown",
   "id": "02f39fa7",
   "metadata": {},
   "source": [
    "# Converting Nested List to 2D NumPy Array\n",
    "This step converts the nested list `l` into a 2D NumPy array, which is useful for matrix operations and numerical computations."
   ]
  },
  {
   "cell_type": "code",
   "execution_count": 9,
   "id": "1b31f33f",
   "metadata": {},
   "outputs": [
    {
     "data": {
      "text/plain": [
       "array([[1, 2, 3],\n",
       "       [4, 5, 6],\n",
       "       [7, 8, 9]])"
      ]
     },
     "execution_count": 9,
     "metadata": {},
     "output_type": "execute_result"
    }
   ],
   "source": [
    "np.array(l)\n"
   ]
  },
  {
   "cell_type": "markdown",
   "id": "1c7fa7be",
   "metadata": {},
   "source": [
    "# Creating Arrays with np.arange\n",
    "`np.arange(start, stop)` creates a 1D array with values starting from `start` up to (but not including) `stop`. This is useful for generating sequences of numbers."
   ]
  },
  {
   "cell_type": "code",
   "execution_count": 18,
   "id": "4ca9f2b3",
   "metadata": {},
   "outputs": [
    {
     "data": {
      "text/plain": [
       "array([ 1,  2,  3,  4,  5,  6,  7,  8,  9, 10])"
      ]
     },
     "execution_count": 18,
     "metadata": {},
     "output_type": "execute_result"
    }
   ],
   "source": [
    "arr = np.arange(1,11)\n",
    "arr"
   ]
  },
  {
   "cell_type": "markdown",
   "id": "fa5ec2c6",
   "metadata": {},
   "source": [
    "# Using np.arange with a Step\n",
    "You can specify a step value in `np.arange(start, stop, step)` to control the increment between values. This is useful for generating sequences with custom intervals."
   ]
  },
  {
   "cell_type": "code",
   "execution_count": 19,
   "id": "b648bdbf",
   "metadata": {},
   "outputs": [
    {
     "data": {
      "text/plain": [
       "array([1, 3, 5, 7, 9])"
      ]
     },
     "execution_count": 19,
     "metadata": {},
     "output_type": "execute_result"
    }
   ],
   "source": [
    "arr = np.arange(1,11,2)\n",
    "arr"
   ]
  },
  {
   "cell_type": "markdown",
   "id": "b6e25df0",
   "metadata": {},
   "source": [
    "# Creating an Array of Zeros\n",
    "`np.zeros(shape)` creates an array filled with zeros. The `shape` parameter defines the dimensions of the array. This is useful for initializing arrays before filling them with data."
   ]
  },
  {
   "cell_type": "code",
   "execution_count": 20,
   "id": "0bf780cc",
   "metadata": {},
   "outputs": [
    {
     "data": {
      "text/plain": [
       "array([[0., 0., 0., 0.],\n",
       "       [0., 0., 0., 0.],\n",
       "       [0., 0., 0., 0.]])"
      ]
     },
     "execution_count": 20,
     "metadata": {},
     "output_type": "execute_result"
    }
   ],
   "source": [
    "arr  = np.zeros((3,4))\n",
    "arr"
   ]
  },
  {
   "cell_type": "markdown",
   "id": "fa36c206",
   "metadata": {},
   "source": [
    "# Creating an Array of Ones\n",
    "`np.ones(shape)` creates an array filled with ones. This is often used for initialization or as a starting point for further operations."
   ]
  },
  {
   "cell_type": "code",
   "execution_count": 22,
   "id": "eaafeb67",
   "metadata": {},
   "outputs": [
    {
     "data": {
      "text/plain": [
       "array([[1., 1., 1., 1.],\n",
       "       [1., 1., 1., 1.],\n",
       "       [1., 1., 1., 1.]])"
      ]
     },
     "execution_count": 22,
     "metadata": {},
     "output_type": "execute_result"
    }
   ],
   "source": [
    "arr = np.ones((3,4))\n",
    "arr"
   ]
  },
  {
   "cell_type": "markdown",
   "id": "a4699b3d",
   "metadata": {},
   "source": [
    "# Creating Evenly Spaced Values with np.linspace\n",
    "`np.linspace(start, stop, num)` generates `num` evenly spaced values between `start` and `stop` (inclusive). This is useful for creating ranges for plotting or sampling."
   ]
  },
  {
   "cell_type": "code",
   "execution_count": 27,
   "id": "eaafeb67",
   "metadata": {},
   "outputs": [
    {
     "data": {
      "text/plain": [
       "array([1., 3., 5.])"
      ]
     },
     "execution_count": 27,
     "metadata": {},
     "output_type": "execute_result"
    }
   ],
   "source": [
    "arr = np.linspace(1,5,3)\n",
    "arr"
   ]
  },
  {
   "cell_type": "markdown",
   "id": "5b368ff9",
   "metadata": {},
   "source": [
    "# Generating More Evenly Spaced Values\n",
    "By increasing the `num` parameter in `np.linspace`, you can generate more points, which is useful for high-resolution sampling or plotting."
   ]
  },
  {
   "cell_type": "code",
   "execution_count": 28,
   "id": "f9300ba0",
   "metadata": {},
   "outputs": [
    {
     "data": {
      "text/plain": [
       "array([1.        , 1.04040404, 1.08080808, 1.12121212, 1.16161616,\n",
       "       1.2020202 , 1.24242424, 1.28282828, 1.32323232, 1.36363636,\n",
       "       1.4040404 , 1.44444444, 1.48484848, 1.52525253, 1.56565657,\n",
       "       1.60606061, 1.64646465, 1.68686869, 1.72727273, 1.76767677,\n",
       "       1.80808081, 1.84848485, 1.88888889, 1.92929293, 1.96969697,\n",
       "       2.01010101, 2.05050505, 2.09090909, 2.13131313, 2.17171717,\n",
       "       2.21212121, 2.25252525, 2.29292929, 2.33333333, 2.37373737,\n",
       "       2.41414141, 2.45454545, 2.49494949, 2.53535354, 2.57575758,\n",
       "       2.61616162, 2.65656566, 2.6969697 , 2.73737374, 2.77777778,\n",
       "       2.81818182, 2.85858586, 2.8989899 , 2.93939394, 2.97979798,\n",
       "       3.02020202, 3.06060606, 3.1010101 , 3.14141414, 3.18181818,\n",
       "       3.22222222, 3.26262626, 3.3030303 , 3.34343434, 3.38383838,\n",
       "       3.42424242, 3.46464646, 3.50505051, 3.54545455, 3.58585859,\n",
       "       3.62626263, 3.66666667, 3.70707071, 3.74747475, 3.78787879,\n",
       "       3.82828283, 3.86868687, 3.90909091, 3.94949495, 3.98989899,\n",
       "       4.03030303, 4.07070707, 4.11111111, 4.15151515, 4.19191919,\n",
       "       4.23232323, 4.27272727, 4.31313131, 4.35353535, 4.39393939,\n",
       "       4.43434343, 4.47474747, 4.51515152, 4.55555556, 4.5959596 ,\n",
       "       4.63636364, 4.67676768, 4.71717172, 4.75757576, 4.7979798 ,\n",
       "       4.83838384, 4.87878788, 4.91919192, 4.95959596, 5.        ])"
      ]
     },
     "execution_count": 28,
     "metadata": {},
     "output_type": "execute_result"
    }
   ],
   "source": [
    "arr = np.linspace(1,5,100)\n",
    "arr"
   ]
  },
  {
   "cell_type": "markdown",
   "id": "a28ac400",
   "metadata": {},
   "source": [
    "# Generating Random Numbers with np.random.rand\n",
    "`np.random.rand(n)` generates `n` random numbers from a uniform distribution over [0, 1). Useful for simulations and initializing random data."
   ]
  },
  {
   "cell_type": "code",
   "execution_count": 30,
   "id": "50c5e929",
   "metadata": {},
   "outputs": [
    {
     "data": {
      "text/plain": [
       "array([0.43828553, 0.98745337, 0.08493871, 0.62840778, 0.05472672,\n",
       "       0.28422195, 0.02879688, 0.60972717, 0.02635631, 0.56767995])"
      ]
     },
     "execution_count": 30,
     "metadata": {},
     "output_type": "execute_result"
    }
   ],
   "source": [
    "np.random.rand(10)"
   ]
  },
  {
   "cell_type": "markdown",
   "id": "0f35c486",
   "metadata": {},
   "source": [
    "# generating Random Numbers from a Normal Distribution\n",
    "`np.random.randn(n)` generates `n` random numbers from the standard normal distribution (mean 0, standard deviation 1). Useful for statistical simulations."
   ]
  },
  {
   "cell_type": "code",
   "execution_count": 33,
   "id": "dce8312e",
   "metadata": {},
   "outputs": [
    {
     "data": {
      "text/plain": [
       "array([ 0.31112964, -0.47067253, -0.38584738,  1.22409778,  0.58534266,\n",
       "        0.53528449, -0.40949806, -0.5938633 , -0.44167557, -1.29756988])"
      ]
     },
     "execution_count": 33,
     "metadata": {},
     "output_type": "execute_result"
    }
   ],
   "source": [
    "np.random.randn(10)"
   ]
  },
  {
   "cell_type": "markdown",
   "id": "60120c6c",
   "metadata": {},
   "source": [
    "# Generating Random Integers\n",
    "`np.random.randint(low, high, size)` generates random integers between `low` (inclusive) and `high` (exclusive). Useful for creating random datasets or indices."
   ]
  },
  {
   "cell_type": "code",
   "execution_count": 35,
   "id": "9d9506b3",
   "metadata": {},
   "outputs": [
    {
     "data": {
      "text/plain": [
       "array([17, 15, 19, 12, 13, 15, 19, 11, 16, 16], dtype=int32)"
      ]
     },
     "execution_count": 35,
     "metadata": {},
     "output_type": "execute_result"
    }
   ],
   "source": [
    "np.random.randint(10,20,10)"
   ]
  },
  {
   "cell_type": "markdown",
   "id": "f4865ada",
   "metadata": {},
   "source": [
    "# Creating a 2D Array (Matrix)\n",
    "You can create a 2D array (matrix) by passing a nested list to `np.array`. This is useful for representing tabular data or performing matrix operations."
   ]
  },
  {
   "cell_type": "code",
   "execution_count": 36,
   "id": "caee0b83",
   "metadata": {},
   "outputs": [
    {
     "data": {
      "text/plain": [
       "array([[1, 2, 3],\n",
       "       [4, 5, 6],\n",
       "       [7, 8, 9]])"
      ]
     },
     "execution_count": 36,
     "metadata": {},
     "output_type": "execute_result"
    }
   ],
   "source": [
    "arr = np.array([[1,2,3], [4,5,6],[7,8,9]])\n",
    "arr"
   ]
  },
  {
   "cell_type": "markdown",
   "id": "7e019baa",
   "metadata": {},
   "source": [
    "# Checking the Shape of an Array\n",
    "The `.shape` attribute returns a tuple representing the dimensions of the array (rows, columns for 2D arrays)."
   ]
  },
  {
   "cell_type": "code",
   "execution_count": 37,
   "id": "f372ab99",
   "metadata": {},
   "outputs": [
    {
     "data": {
      "text/plain": [
       "(3, 3)"
      ]
     },
     "execution_count": 37,
     "metadata": {},
     "output_type": "execute_result"
    }
   ],
   "source": [
    "arr.shape"
   ]
  },
  {
   "cell_type": "markdown",
   "id": "41e4e82e",
   "metadata": {},
   "source": [
    "# Checking the Size of an Array\n",
    "The `.size` attribute returns the total number of elements in the array, regardless of its shape."
   ]
  },
  {
   "cell_type": "code",
   "execution_count": 38,
   "id": "9e91ec5b",
   "metadata": {},
   "outputs": [
    {
     "data": {
      "text/plain": [
       "9"
      ]
     },
     "execution_count": 38,
     "metadata": {},
     "output_type": "execute_result"
    }
   ],
   "source": [
    "arr.size"
   ]
  },
  {
   "cell_type": "markdown",
   "id": "d5730b59",
   "metadata": {},
   "source": [
    "# Checking the Data Type of Array Elements\n",
    "The `.dtype` attribute shows the data type of the elements stored in the array (e.g., int32, float64)."
   ]
  },
  {
   "cell_type": "code",
   "execution_count": 39,
   "id": "fb8295b4",
   "metadata": {},
   "outputs": [
    {
     "data": {
      "text/plain": [
       "dtype('int64')"
      ]
     },
     "execution_count": 39,
     "metadata": {},
     "output_type": "execute_result"
    }
   ],
   "source": [
    "arr.dtype"
   ]
  },
  {
   "cell_type": "markdown",
   "id": "cafb5dbe",
   "metadata": {},
   "source": [
    "# Viewing the Array\n",
    "Simply outputting the array variable displays its contents, which is useful for inspection and debugging."
   ]
  },
  {
   "cell_type": "code",
   "execution_count": 40,
   "id": "cb907464",
   "metadata": {},
   "outputs": [
    {
     "data": {
      "text/plain": [
       "array([[1, 2, 3],\n",
       "       [4, 5, 6],\n",
       "       [7, 8, 9]])"
      ]
     },
     "execution_count": 40,
     "metadata": {},
     "output_type": "execute_result"
    }
   ],
   "source": [
    "arr"
   ]
  },
  {
   "cell_type": "markdown",
   "id": "869d8469",
   "metadata": {},
   "source": [
    "# Finding the Minimum Value\n",
    "The `.min()` method returns the smallest value in the array."
   ]
  },
  {
   "cell_type": "code",
   "execution_count": 42,
   "id": "3a2ce5a4",
   "metadata": {},
   "outputs": [
    {
     "data": {
      "text/plain": [
       "np.int64(1)"
      ]
     },
     "execution_count": 42,
     "metadata": {},
     "output_type": "execute_result"
    }
   ],
   "source": [
    "arr.min()"
   ]
  },
  {
   "cell_type": "markdown",
   "id": "a8163324",
   "metadata": {},
   "source": [
    "# Finding the Maximum Value\n",
    "The `.max()` method returns the largest value in the array."
   ]
  },
  {
   "cell_type": "code",
   "execution_count": 43,
   "id": "043a1ff1",
   "metadata": {},
   "outputs": [
    {
     "data": {
      "text/plain": [
       "np.int64(9)"
      ]
     },
     "execution_count": 43,
     "metadata": {},
     "output_type": "execute_result"
    }
   ],
   "source": [
    "arr.max()"
   ]
  },
  {
   "cell_type": "markdown",
   "id": "789bc69d",
   "metadata": {},
   "source": [
    "# Summing All Elements\n",
    "The `.sum()` method returns the sum of all elements in the array."
   ]
  },
  {
   "cell_type": "code",
   "execution_count": 44,
   "id": "919aa469",
   "metadata": {},
   "outputs": [
    {
     "data": {
      "text/plain": [
       "np.int64(45)"
      ]
     },
     "execution_count": 44,
     "metadata": {},
     "output_type": "execute_result"
    }
   ],
   "source": [
    "arr.sum()"
   ]
  },
  {
   "cell_type": "markdown",
   "id": "144c9ef3",
   "metadata": {},
   "source": [
    "# Summing Along Columns (axis=0)\n",
    "`np.sum(arr, axis=0)` sums the elements of the array along each column. Axis-based operations are useful for aggregating data across specific dimensions."
   ]
  },
  {
   "cell_type": "code",
   "execution_count": 45,
   "id": "40cbe656",
   "metadata": {},
   "outputs": [
    {
     "data": {
      "text/plain": [
       "array([12, 15, 18])"
      ]
     },
     "execution_count": 45,
     "metadata": {},
     "output_type": "execute_result"
    }
   ],
   "source": [
    "np.sum(arr,axis=0)"
   ]
  },
  {
   "cell_type": "markdown",
   "id": "aab8fca3",
   "metadata": {},
   "source": [
    "# Summing Along Rows (axis=1)\n",
    "`np.sum(arr, axis=1)` sums the elements of the array along each row. This is useful for row-wise aggregation."
   ]
  },
  {
   "cell_type": "code",
   "execution_count": 46,
   "id": "03fd361a",
   "metadata": {},
   "outputs": [
    {
     "data": {
      "text/plain": [
       "array([ 6, 15, 24])"
      ]
     },
     "execution_count": 46,
     "metadata": {},
     "output_type": "execute_result"
    }
   ],
   "source": [
    "np.sum(arr,axis=1)"
   ]
  },
  {
   "cell_type": "markdown",
   "id": "97de62e2",
   "metadata": {},
   "source": [
    "# Calculating the Mean\n",
    "The `.mean()` method returns the average value of all elements in the array."
   ]
  },
  {
   "cell_type": "code",
   "execution_count": 47,
   "id": "d2798491",
   "metadata": {},
   "outputs": [
    {
     "data": {
      "text/plain": [
       "np.float64(5.0)"
      ]
     },
     "execution_count": 47,
     "metadata": {},
     "output_type": "execute_result"
    }
   ],
   "source": [
    "arr.mean()"
   ]
  },
  {
   "cell_type": "markdown",
   "id": "095acbf7",
   "metadata": {},
   "source": [
    "# Standardization and Normalization\n",
    "**Standardization** is the process of transforming data to have a mean of 0 and a standard deviation of 1. This is often done using the formula:\n",
    "\n",
    "    standardized_value = (value - mean) / std\n",
    "\n",
    "**Normalization** typically means scaling data to a fixed range, usually [0, 1], using the formula:\n",
    "\n",
    "    normalized_value = (value - min) / (max - min)\n",
    "\n",
    "Standardization is useful when you want to compare data with different scales or units, and is commonly used in machine learning. The `.std()` method is used to calculate the standard deviation, which is a key part of standardization."
   ]
  },
  {
   "cell_type": "markdown",
   "id": "cd4a5aff",
   "metadata": {},
   "source": [
    "# Calculating the Standard Deviation\n",
    "The `.std()` method returns the standard deviation, a measure of the spread of the array's values."
   ]
  },
  {
   "cell_type": "code",
   "execution_count": 48,
   "id": "bc090355",
   "metadata": {},
   "outputs": [
    {
     "data": {
      "text/plain": [
       "np.float64(2.581988897471611)"
      ]
     },
     "execution_count": 48,
     "metadata": {},
     "output_type": "execute_result"
    }
   ],
   "source": [
    "arr.std()"
   ]
  },
  {
   "cell_type": "markdown",
   "id": "6857234d",
   "metadata": {},
   "source": [
    "# Finding the Index of the Maximum Value\n",
    "The `.argmax()` method returns the index of the first occurrence of the maximum value in the array."
   ]
  },
  {
   "cell_type": "code",
   "execution_count": 49,
   "id": "d441310e",
   "metadata": {},
   "outputs": [
    {
     "data": {
      "text/plain": [
       "np.int64(8)"
      ]
     },
     "execution_count": 49,
     "metadata": {},
     "output_type": "execute_result"
    }
   ],
   "source": [
    "arr.argmax()"
   ]
  },
  {
   "cell_type": "markdown",
   "id": "87e7ab6a",
   "metadata": {},
   "source": [
    "# Finding the Index of the Minimum Value\n",
    "The `.argmin()` method returns the index of the first occurrence of the minimum value in the array."
   ]
  },
  {
   "cell_type": "code",
   "execution_count": 50,
   "id": "80b2b801",
   "metadata": {},
   "outputs": [
    {
     "data": {
      "text/plain": [
       "np.int64(0)"
      ]
     },
     "execution_count": 50,
     "metadata": {},
     "output_type": "execute_result"
    }
   ],
   "source": [
    "arr.argmin()"
   ]
  },
  {
   "cell_type": "markdown",
   "id": "dd75bd30",
   "metadata": {},
   "source": [
    "# Creating a 1D Array from 1 to 30\n",
    "`np.arange(1,31)` creates a 1D array with values from 1 to 30. This is often used as a starting point for reshaping or further operations."
   ]
  },
  {
   "cell_type": "code",
   "execution_count": 53,
   "id": "5c149926",
   "metadata": {},
   "outputs": [
    {
     "data": {
      "text/plain": [
       "array([ 1,  2,  3,  4,  5,  6,  7,  8,  9, 10, 11, 12, 13, 14, 15, 16, 17,\n",
       "       18, 19, 20, 21, 22, 23, 24, 25, 26, 27, 28, 29, 30])"
      ]
     },
     "execution_count": 53,
     "metadata": {},
     "output_type": "execute_result"
    }
   ],
   "source": [
    "arr = np.arange(1,31)\n",
    "arr"
   ]
  },
  {
   "cell_type": "markdown",
   "id": "7c0ca393",
   "metadata": {},
   "source": [
    "#  Reshaping the Array\n",
    "The `.reshape(new_shape)` method changes the shape of the array without changing its data. Here, the 1D array is reshaped into a 6x5 matrix."
   ]
  },
  {
   "cell_type": "code",
   "execution_count": 56,
   "id": "7c49f421",
   "metadata": {},
   "outputs": [
    {
     "data": {
      "text/plain": [
       "array([[ 1,  2,  3,  4,  5],\n",
       "       [ 6,  7,  8,  9, 10],\n",
       "       [11, 12, 13, 14, 15],\n",
       "       [16, 17, 18, 19, 20],\n",
       "       [21, 22, 23, 24, 25],\n",
       "       [26, 27, 28, 29, 30]])"
      ]
     },
     "execution_count": 56,
     "metadata": {},
     "output_type": "execute_result"
    }
   ],
   "source": [
    "arr = arr.reshape(6,5)\n",
    "arr"
   ]
  },
  {
   "cell_type": "code",
   "execution_count": null,
   "id": "f0325c31",
   "metadata": {},
   "outputs": [],
   "source": []
  }
 ],
 "metadata": {
  "kernelspec": {
   "display_name": "base",
   "language": "python",
   "name": "python3"
  },
  "language_info": {
   "codemirror_mode": {
    "name": "ipython",
    "version": 3
   },
   "file_extension": ".py",
   "mimetype": "text/x-python",
   "name": "python",
   "nbconvert_exporter": "python",
   "pygments_lexer": "ipython3",
   "version": "3.13.5"
  }
 },
 "nbformat": 4,
 "nbformat_minor": 5
}
