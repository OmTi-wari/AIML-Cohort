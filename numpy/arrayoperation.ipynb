{
 "cells": [
  {
   "cell_type": "markdown",
   "id": "9099d151",
   "metadata": {},
   "source": [
    "# Importing NumPy\n",
    "**Concept:** NumPy is the foundational library for numerical operations in Python, providing support for arrays, matrices, and mathematical functions.\n",
    "**How it works:** The statement `import numpy as np` imports the library and assigns it the alias `np` for convenience.\n",
    "**Extra Tips:** Always import NumPy at the start of your notebook. If you get an ImportError, install NumPy using `pip install numpy`."
   ]
  },
  {
   "cell_type": "code",
   "execution_count": 1,
   "id": "19329d58",
   "metadata": {},
   "outputs": [],
   "source": [
    "import numpy as np"
   ]
  },
  {
   "cell_type": "code",
   "execution_count": null,
   "id": "000dd199",
   "metadata": {},
   "outputs": [],
   "source": [
    "a1 = np.array([1, 2, 3, 4, 5])\n",
    "a2 = np.array([6, 7, 8, 9, 10])"
   ]
  },
  {
   "cell_type": "markdown",
   "id": "7ea91fb3",
   "metadata": {},
   "source": [
    "# Element-wise Addition\n",
    "**Concept:** NumPy supports element-wise arithmetic operations, meaning each element in one array is added to the corresponding element in another array.\n",
    "**How it works:** `a1 + a2` adds each element of `a1` to the corresponding element of `a2`.\n",
    "**Extra Tips:** Arrays must be of the same shape for element-wise operations. If shapes differ, NumPy will attempt broadcasting."
   ]
  },
  {
   "cell_type": "code",
   "execution_count": 3,
   "id": "57033a1d",
   "metadata": {},
   "outputs": [
    {
     "data": {
      "text/plain": [
       "array([ 7,  9, 11, 13, 15])"
      ]
     },
     "execution_count": 3,
     "metadata": {},
     "output_type": "execute_result"
    }
   ],
   "source": [
    "a1+a2"
   ]
  },
  {
   "cell_type": "markdown",
   "id": "c0d4af31",
   "metadata": {},
   "source": [
    "# Element-wise Subtraction\n",
    "**Concept:** Subtraction is performed element-wise, subtracting each element in one array from the corresponding element in another.\n",
    "**How it works:** `a1 - a2` subtracts each element of `a2` from `a1`.\n",
    "**Extra Tips:** Useful for calculating differences between datasets. Arrays must be compatible in shape."
   ]
  },
  {
   "cell_type": "code",
   "execution_count": 4,
   "id": "eff94119",
   "metadata": {},
   "outputs": [
    {
     "data": {
      "text/plain": [
       "array([-5, -5, -5, -5, -5])"
      ]
     },
     "execution_count": 4,
     "metadata": {},
     "output_type": "execute_result"
    }
   ],
   "source": [
    "a1-a2"
   ]
  },
  {
   "cell_type": "markdown",
   "id": "01bffdfb",
   "metadata": {},
   "source": [
    "# Element-wise Multiplication\n",
    "**Concept:** Each element in one array is multiplied by the corresponding element in another array.\n",
    "**How it works:** `a1 * a2` multiplies each element of `a1` with the corresponding element of `a2`.\n",
    "**Extra Tips:** This is not matrix multiplication; it's element-wise. For matrix multiplication, use `@` or `np.dot`."
   ]
  },
  {
   "cell_type": "code",
   "execution_count": 5,
   "id": "943b0680",
   "metadata": {},
   "outputs": [
    {
     "data": {
      "text/plain": [
       "array([ 6, 14, 24, 36, 50])"
      ]
     },
     "execution_count": 5,
     "metadata": {},
     "output_type": "execute_result"
    }
   ],
   "source": [
    "a1*a2"
   ]
  },
  {
   "cell_type": "markdown",
   "id": "84b9a8cf",
   "metadata": {},
   "source": [
    "# Element-wise Division\n",
    "**Concept:** Division is performed element-wise, dividing each element in one array by the corresponding element in another.\n",
    "**How it works:** `a1 / a2` divides each element of `a1` by the corresponding element of `a2`.\n",
    "**Extra Tips:** Watch out for division by zero. Use integer division (`//`) for whole number results."
   ]
  },
  {
   "cell_type": "code",
   "execution_count": 6,
   "id": "d5c79aed",
   "metadata": {},
   "outputs": [
    {
     "data": {
      "text/plain": [
       "array([0.16666667, 0.28571429, 0.375     , 0.44444444, 0.5       ])"
      ]
     },
     "execution_count": 6,
     "metadata": {},
     "output_type": "execute_result"
    }
   ],
   "source": [
    "a1/a2"
   ]
  },
  {
   "cell_type": "markdown",
   "id": "b6ce742f",
   "metadata": {},
   "source": [
    "# Element-wise Integer Division\n",
    "**Concept:** Integer division returns the whole number part of the division for each element pair in the arrays.\n",
    "**How it works:** `a1 // a2` divides each element of `a1` by the corresponding element of `a2` and returns the integer part.\n",
    "**Extra Tips:** Useful for tasks where you need to ignore the remainder. Be careful with negative numbers, as integer division rounds towards negative infinity."
   ]
  },
  {
   "cell_type": "code",
   "execution_count": 7,
   "id": "9c16768a",
   "metadata": {},
   "outputs": [
    {
     "data": {
      "text/plain": [
       "array([0, 0, 0, 0, 0])"
      ]
     },
     "execution_count": 7,
     "metadata": {},
     "output_type": "execute_result"
    }
   ],
   "source": [
    "a1//a2"
   ]
  },
  {
   "cell_type": "markdown",
   "id": "7599307c",
   "metadata": {},
   "source": [
    "# Element-wise Power\n",
    "**Concept:** Raises each element in one array to the power of the corresponding element in another array.\n",
    "**How it works:** `a1 ** a2` computes `a1[i]` raised to the power of `a2[i]` for each index `i`.\n",
    "**Extra Tips:** Can result in very large numbers quickly. Use with caution for large arrays or high exponents."
   ]
  },
  {
   "cell_type": "code",
   "execution_count": 8,
   "id": "cb7ff3e6",
   "metadata": {},
   "outputs": [
    {
     "data": {
      "text/plain": [
       "array([      1,     128,    6561,  262144, 9765625])"
      ]
     },
     "execution_count": 8,
     "metadata": {},
     "output_type": "execute_result"
    }
   ],
   "source": [
    "a1**a2"
   ]
  },
  {
   "cell_type": "markdown",
   "id": "cc44535f",
   "metadata": {},
   "source": [
    "# Converting Lists to Arrays\n",
    "**Concept:** NumPy arrays are more efficient than Python lists for numerical operations.\n",
    "**How it works:** `np.array(l)` converts a Python list `l` into a NumPy array `arr`.\n",
    "**Extra Tips:** Arrays support vectorized operations, while lists do not. Always convert lists to arrays before performing mathematical operations."
   ]
  },
  {
   "cell_type": "code",
   "execution_count": 9,
   "id": "40255467",
   "metadata": {},
   "outputs": [],
   "source": [
    "l = [1, 2, 3, 4, 5]\n",
    "arr = np.array(l)"
   ]
  },
  {
   "cell_type": "markdown",
   "id": "310cbf37",
   "metadata": {},
   "source": [
    "# Broadcasting in NumPy\n",
    "**Concept:** Broadcasting allows NumPy to perform operations between arrays of different shapes by automatically expanding the smaller array.\n",
    "**How it works:** `arr + 10` adds 10 to each element of the array `arr`. The scalar 10 is broadcasted to match the shape of `arr`.\n",
    "**Extra Tips:** Broadcasting is powerful but can lead to unexpected results if shapes are not compatible. Always check array shapes before broadcasting."
   ]
  },
  {
   "cell_type": "code",
   "execution_count": 10,
   "id": "efd8bbb8",
   "metadata": {},
   "outputs": [
    {
     "data": {
      "text/plain": [
       "array([11, 12, 13, 14, 15])"
      ]
     },
     "execution_count": 10,
     "metadata": {},
     "output_type": "execute_result"
    }
   ],
   "source": [
    "arr + 10"
   ]
  },
  {
   "cell_type": "markdown",
   "id": "90c0e782",
   "metadata": {},
   "source": [
    "# Creating and Reshaping Arrays\n",
    "**Concept:** NumPy arrays can be reshaped to different dimensions, allowing for flexible data organization.\n",
    "**How it works:** `np.arange(1,26).reshape(5,5)` creates a 1D array of numbers from 1 to 25 and reshapes it into a 5x5 2D array.\n",
    "**Extra Tips:** The total number of elements must remain the same when reshaping. Use `.reshape()` to convert between 1D, 2D, and higher dimensions."
   ]
  },
  {
   "cell_type": "code",
   "execution_count": 11,
   "id": "69a50af5",
   "metadata": {},
   "outputs": [
    {
     "data": {
      "text/plain": [
       "array([[ 1,  2,  3,  4,  5],\n",
       "       [ 6,  7,  8,  9, 10],\n",
       "       [11, 12, 13, 14, 15],\n",
       "       [16, 17, 18, 19, 20],\n",
       "       [21, 22, 23, 24, 25]])"
      ]
     },
     "execution_count": 11,
     "metadata": {},
     "output_type": "execute_result"
    }
   ],
   "source": [
    "arr2 = np.arange(1,26).reshape(5,5)\n",
    "arr2"
   ]
  },
  {
   "cell_type": "markdown",
   "id": "71f8cec1",
   "metadata": {},
   "source": [
    "# Broadcasting with 2D Arrays\n",
    "**Concept:** Broadcasting works with multi-dimensional arrays, allowing you to add a scalar to every element in a 2D array.\n",
    "**How it works:** `arr2 + 10` adds 10 to each element of the 5x5 array `arr2`.\n",
    "**Extra Tips:** Broadcasting simplifies code and avoids explicit loops. Always check shapes to avoid unexpected results."
   ]
  },
  {
   "cell_type": "code",
   "execution_count": 12,
   "id": "1bbf4535",
   "metadata": {},
   "outputs": [
    {
     "data": {
      "text/plain": [
       "array([[11, 12, 13, 14, 15],\n",
       "       [16, 17, 18, 19, 20],\n",
       "       [21, 22, 23, 24, 25],\n",
       "       [26, 27, 28, 29, 30],\n",
       "       [31, 32, 33, 34, 35]])"
      ]
     },
     "execution_count": 12,
     "metadata": {},
     "output_type": "execute_result"
    }
   ],
   "source": [
    "arr2 + 10"
   ]
  },
  {
   "cell_type": "markdown",
   "id": "5c5d269a",
   "metadata": {},
   "source": [
    "# Creating Arrays with arange\n",
    "**Concept:** `np.arange` generates arrays with evenly spaced values within a given interval.\n",
    "**How it works:** `np.arange(1,31)` creates a 1D array with values from 1 to 30.\n",
    "**Extra Tips:** Use `arange` for quick array creation. Combine with `.reshape()` for multi-dimensional arrays."
   ]
  },
  {
   "cell_type": "code",
   "execution_count": 13,
   "id": "cb4444e0",
   "metadata": {},
   "outputs": [
    {
     "data": {
      "text/plain": [
       "array([ 1,  2,  3,  4,  5,  6,  7,  8,  9, 10, 11, 12, 13, 14, 15, 16, 17,\n",
       "       18, 19, 20, 21, 22, 23, 24, 25, 26, 27, 28, 29, 30])"
      ]
     },
     "execution_count": 13,
     "metadata": {},
     "output_type": "execute_result"
    }
   ],
   "source": [
    "a = np.arange(1,31)\n",
    "a"
   ]
  },
  {
   "cell_type": "markdown",
   "id": "393cefc1",
   "metadata": {},
   "source": [
    "# Slicing and Modifying Arrays\n",
    "**Concept:** Slicing allows you to select and modify specific parts of an array.\n",
    "**How it works:** `slice = a[0:5]` selects the first five elements. Multiplying `slice` by 10 updates those elements.\n",
    "**Extra Tips:** Slicing creates a view, not a copy. Changes to the slice may affect the original array. Use `.copy()` for independent copies."
   ]
  },
  {
   "cell_type": "code",
   "execution_count": 17,
   "id": "e93fc6f8",
   "metadata": {},
   "outputs": [
    {
     "data": {
      "text/plain": [
       "array([10, 20, 30, 40, 50])"
      ]
     },
     "execution_count": 17,
     "metadata": {},
     "output_type": "execute_result"
    }
   ],
   "source": [
    "slice = a[0:5]\n",
    "slice = slice * 10\n",
    "slice"
   ]
  },
  {
   "cell_type": "markdown",
   "id": "bfd1d137",
   "metadata": {},
   "source": [
    "# Viewing Modified Arrays\n",
    "**Concept:** After modifying an array, it's important to view the result to verify changes.\n",
    "**How it works:** Displaying `a` shows the current state of the array after slicing and modification.\n",
    "**Extra Tips:** Use print statements or simply type the variable name in a notebook cell to view arrays."
   ]
  },
  {
   "cell_type": "code",
   "execution_count": 18,
   "id": "57b10744",
   "metadata": {},
   "outputs": [
    {
     "data": {
      "text/plain": [
       "array([ 1,  2,  3,  4,  5,  6,  7,  8,  9, 10, 11, 12, 13, 14, 15, 16, 17,\n",
       "       18, 19, 20, 21, 22, 23, 24, 25, 26, 27, 28, 29, 30])"
      ]
     },
     "execution_count": 18,
     "metadata": {},
     "output_type": "execute_result"
    }
   ],
   "source": [
    "a"
   ]
  },
  {
   "cell_type": "markdown",
   "id": "87f1fd87",
   "metadata": {},
   "source": [
    "# Multiplying Array Slices\n",
    "**Concept:** You can perform operations on specific slices of an array to modify only selected elements.\n",
    "**How it works:** `a[4:6]*10` multiplies elements at indices 4 and 5 by 10.\n",
    "**Extra Tips:** Slicing is zero-based and end-exclusive. Use slices for targeted modifications."
   ]
  },
  {
   "cell_type": "code",
   "execution_count": 19,
   "id": "eb57163c",
   "metadata": {},
   "outputs": [
    {
     "data": {
      "text/plain": [
       "array([50, 60])"
      ]
     },
     "execution_count": 19,
     "metadata": {},
     "output_type": "execute_result"
    }
   ],
   "source": [
    "a[4:6]*10"
   ]
  },
  {
   "cell_type": "markdown",
   "id": "3127736f",
   "metadata": {},
   "source": [
    "# Shallow Copying Arrays\n",
    "**Concept:** Assigning one array to another (e.g., `b = a`) creates a shallow copy, meaning both variables reference the same data.\n",
    "**How it works:** Changes to `b` will also affect `a` because they point to the same memory location.\n",
    "**Extra Tips:** Use `.copy()` for deep copies if you want independent arrays."
   ]
  },
  {
   "cell_type": "code",
   "execution_count": 20,
   "id": "d17edfda",
   "metadata": {},
   "outputs": [],
   "source": [
    "a\n",
    "b = a\n"
   ]
  },
  {
   "cell_type": "markdown",
   "id": "da02baf9",
   "metadata": {},
   "source": [
    "# Modifying Shallow Copies\n",
    "**Concept:** Modifying a shallow copy affects the original array.\n",
    "**How it works:** Changing `b[0]` also changes `a[0]` because both reference the same data.\n",
    "**Extra Tips:** Always use `.copy()` if you need to preserve the original array."
   ]
  },
  {
   "cell_type": "code",
   "execution_count": 22,
   "id": "235bcf04",
   "metadata": {},
   "outputs": [
    {
     "data": {
      "text/plain": [
       "array([99,  2,  3,  4,  5,  6,  7,  8,  9, 10, 11, 12, 13, 14, 15, 16, 17,\n",
       "       18, 19, 20, 21, 22, 23, 24, 25, 26, 27, 28, 29, 30])"
      ]
     },
     "execution_count": 22,
     "metadata": {},
     "output_type": "execute_result"
    }
   ],
   "source": [
    "b[0] = 99\n",
    "b"
   ]
  },
  {
   "cell_type": "markdown",
   "id": "4bb91d6b",
   "metadata": {},
   "source": [
    "# Viewing Effects of Shallow Copy Modification\n",
    "**Concept:** After modifying a shallow copy, viewing the original array shows the changes.\n",
    "**How it works:** Displaying `a` after changing `b` confirms that both arrays are affected.\n",
    "**Extra Tips:** Always check both arrays after modification to understand the impact of shallow copies."
   ]
  },
  {
   "cell_type": "code",
   "execution_count": 23,
   "id": "5dc58155",
   "metadata": {},
   "outputs": [
    {
     "data": {
      "text/plain": [
       "array([99,  2,  3,  4,  5,  6,  7,  8,  9, 10, 11, 12, 13, 14, 15, 16, 17,\n",
       "       18, 19, 20, 21, 22, 23, 24, 25, 26, 27, 28, 29, 30])"
      ]
     },
     "execution_count": 23,
     "metadata": {},
     "output_type": "execute_result"
    }
   ],
   "source": [
    "a"
   ]
  },
  {
   "cell_type": "markdown",
   "id": "5977a65c",
   "metadata": {},
   "source": [
    "# Creating 2D Arrays for Matrix Operations\n",
    "**Concept:** 2D arrays (matrices) are used for advanced mathematical operations like matrix multiplication.\n",
    "**How it works:** `np.array([[1, 2], [3, 4]])` creates a 2x2 matrix. Multiple matrices can be created for operations.\n",
    "**Extra Tips:** Ensure matrices have compatible shapes for multiplication and other operations."
   ]
  },
  {
   "cell_type": "code",
   "execution_count": 27,
   "id": "022409fa",
   "metadata": {},
   "outputs": [],
   "source": [
    "a = np.array([[1, 2], [3, 4]])\n",
    "b = np.array([[6, 7], [9, 10]])"
   ]
  },
  {
   "cell_type": "markdown",
   "id": "ae3a4e0e",
   "metadata": {},
   "source": [
    "# Viewing Matrices\n",
    "**Concept:** Displaying matrices helps verify their structure and values before performing operations.\n",
    "**How it works:** Typing the variable name in a cell shows the matrix.\n",
    "**Extra Tips:** Always check matrix shapes before operations."
   ]
  },
  {
   "cell_type": "code",
   "execution_count": 28,
   "id": "1fe1d6aa",
   "metadata": {},
   "outputs": [
    {
     "data": {
      "text/plain": [
       "array([[1, 2],\n",
       "       [3, 4]])"
      ]
     },
     "execution_count": 28,
     "metadata": {},
     "output_type": "execute_result"
    }
   ],
   "source": [
    "a"
   ]
  },
  {
   "cell_type": "markdown",
   "id": "ff82f64b",
   "metadata": {},
   "source": [
    "# Viewing the Second Matrix\n",
    "**Concept:** It's important to inspect both matrices before performing operations.\n",
    "**How it works:** Displaying `b` shows the second matrix.\n",
    "**Extra Tips:** Use print statements or notebook cells to view matrices."
   ]
  },
  {
   "cell_type": "code",
   "execution_count": 29,
   "id": "07b75d6c",
   "metadata": {},
   "outputs": [
    {
     "data": {
      "text/plain": [
       "array([[ 6,  7],\n",
       "       [ 9, 10]])"
      ]
     },
     "execution_count": 29,
     "metadata": {},
     "output_type": "execute_result"
    }
   ],
   "source": [
    "b"
   ]
  },
  {
   "cell_type": "markdown",
   "id": "4b284d7d",
   "metadata": {},
   "source": [
    "# Matrix Multiplication with @ Operator\n",
    "**Concept:** Matrix multiplication combines rows of the first matrix with columns of the second matrix to produce a new matrix.\n",
    "**How it works:** `a @ b` multiplies matrix `a` by matrix `b` using the standard matrix multiplication rules.\n",
    "**Extra Tips:** The number of columns in the first matrix must equal the number of rows in the second. Use `@` for readable code in Python 3.5+."
   ]
  },
  {
   "cell_type": "code",
   "execution_count": 30,
   "id": "e4d375ff",
   "metadata": {},
   "outputs": [
    {
     "data": {
      "text/plain": [
       "array([[24, 27],\n",
       "       [54, 61]])"
      ]
     },
     "execution_count": 30,
     "metadata": {},
     "output_type": "execute_result"
    }
   ],
   "source": [
    "a @ b"
   ]
  },
  {
   "cell_type": "markdown",
   "id": "e5001aa5",
   "metadata": {},
   "source": [
    "# Matrix Multiplication with np.dot\n",
    "**Concept:** `np.dot` is a NumPy function for matrix multiplication and dot products.\n",
    "**How it works:** `np.dot(a, b)` multiplies matrix `a` by matrix `b`.\n",
    "**Extra Tips:** Use `np.dot` for compatibility with older Python versions or when you need dot products for 1D arrays."
   ]
  },
  {
   "cell_type": "code",
   "execution_count": 31,
   "id": "8ba2455c",
   "metadata": {},
   "outputs": [
    {
     "data": {
      "text/plain": [
       "array([[24, 27],\n",
       "       [54, 61]])"
      ]
     },
     "execution_count": 31,
     "metadata": {},
     "output_type": "execute_result"
    }
   ],
   "source": [
    "np.dot(a,b)"
   ]
  },
  {
   "cell_type": "markdown",
   "id": "c378b9ea",
   "metadata": {},
   "source": [
    "# Transposing Matrices\n",
    "**Concept:** Transposing switches the rows and columns of a matrix.\n",
    "**How it works:** `a.T` returns the transpose of matrix `a`.\n",
    "**Extra Tips:** Transposing is useful for aligning data, preparing for matrix multiplication, and many linear algebra operations."
   ]
  },
  {
   "cell_type": "code",
   "execution_count": 32,
   "id": "8aefc299",
   "metadata": {},
   "outputs": [
    {
     "data": {
      "text/plain": [
       "array([[1, 3],\n",
       "       [2, 4]])"
      ]
     },
     "execution_count": 32,
     "metadata": {},
     "output_type": "execute_result"
    }
   ],
   "source": [
    "a.T"
   ]
  },
  {
   "cell_type": "markdown",
   "id": "f68736b2",
   "metadata": {},
   "source": [
    "# Transposing the Second Matrix\n",
    "**Concept:** Transposing is not limited to one matrix; you can transpose any array.\n",
    "**How it works:** `b.T` returns the transpose of matrix `b`.\n",
    "**Extra Tips:** Use transposes to match shapes for operations or to analyze data from different perspectives."
   ]
  },
  {
   "cell_type": "code",
   "execution_count": 33,
   "id": "dcf42cd8",
   "metadata": {},
   "outputs": [
    {
     "data": {
      "text/plain": [
       "array([[ 6,  9],\n",
       "       [ 7, 10]])"
      ]
     },
     "execution_count": 33,
     "metadata": {},
     "output_type": "execute_result"
    }
   ],
   "source": [
    "b.T"
   ]
  },
  {
   "cell_type": "markdown",
   "id": "f8ff685d",
   "metadata": {},
   "source": [
    "# Preparing Arrays for Stacking\n",
    "**Concept:** Stacking combines multiple arrays into a single array along a specified axis.\n",
    "**How it works:** Creating arrays `a` and `b` prepares them for stacking operations like vertical and horizontal stacking.\n",
    "**Extra Tips:** Arrays must have compatible shapes for stacking."
   ]
  },
  {
   "cell_type": "code",
   "execution_count": 34,
   "id": "9856409c",
   "metadata": {},
   "outputs": [],
   "source": [
    "a = np.array([1, 2, 3, 4, 5])\n",
    "b = np.array([6, 7, 8, 9, 10])"
   ]
  },
  {
   "cell_type": "markdown",
   "id": "0098460f",
   "metadata": {},
   "source": [
    "# Vertical Stacking with np.vstack\n",
    "**Concept:** Vertical stacking combines arrays as new rows in a single array.\n",
    "**How it works:** `np.vstack((a, b))` stacks arrays `a` and `b` vertically, creating a 2D array.\n",
    "**Extra Tips:** Use vertical stacking to combine datasets with the same number of columns."
   ]
  },
  {
   "cell_type": "code",
   "execution_count": 37,
   "id": "cc0986f4",
   "metadata": {},
   "outputs": [
    {
     "data": {
      "text/plain": [
       "array([[ 1,  2,  3,  4,  5],\n",
       "       [ 6,  7,  8,  9, 10]])"
      ]
     },
     "execution_count": 37,
     "metadata": {},
     "output_type": "execute_result"
    }
   ],
   "source": [
    "np.vstack((a, b))"
   ]
  },
  {
   "cell_type": "markdown",
   "id": "b198181e",
   "metadata": {},
   "source": [
    "# Horizontal Stacking with np.hstack\n",
    "**Concept:** Horizontal stacking combines arrays as new columns in a single array.\n",
    "**How it works:** `np.hstack((a, b))` stacks arrays `a` and `b` horizontally, creating a longer 1D array or adding columns to a 2D array.\n",
    "**Extra Tips:** Use horizontal stacking to merge features or data with the same number of rows."
   ]
  },
  {
   "cell_type": "code",
   "execution_count": 38,
   "id": "715ddda6",
   "metadata": {},
   "outputs": [
    {
     "data": {
      "text/plain": [
       "array([ 1,  2,  3,  4,  5,  6,  7,  8,  9, 10])"
      ]
     },
     "execution_count": 38,
     "metadata": {},
     "output_type": "execute_result"
    }
   ],
   "source": [
    "np.hstack((a, b))"
   ]
  },
  {
   "cell_type": "markdown",
   "id": "60584246",
   "metadata": {},
   "source": [
    "# Column Stacking with np.column_stack\n",
    "**Concept:** Column stacking combines 1D arrays as columns in a 2D array.\n",
    "**How it works:** `np.column_stack((a, b))` stacks arrays `a` and `b` as columns, creating a 2D array with each input as a column.\n",
    "**Extra Tips:** Useful for creating feature matrices for machine learning."
   ]
  },
  {
   "cell_type": "code",
   "execution_count": 39,
   "id": "38a1439f",
   "metadata": {},
   "outputs": [
    {
     "data": {
      "text/plain": [
       "array([[ 1,  6],\n",
       "       [ 2,  7],\n",
       "       [ 3,  8],\n",
       "       [ 4,  9],\n",
       "       [ 5, 10]])"
      ]
     },
     "execution_count": 39,
     "metadata": {},
     "output_type": "execute_result"
    }
   ],
   "source": [
    "np.column_stack((a, b))"
   ]
  },
  {
   "cell_type": "code",
   "execution_count": 40,
   "id": "bc1ec451",
   "metadata": {},
   "outputs": [],
   "source": [
    "c = np.arange(16).reshape(4,4)"
   ]
  },
  {
   "cell_type": "code",
   "execution_count": 41,
   "id": "9ebfcdf8",
   "metadata": {},
   "outputs": [
    {
     "data": {
      "text/plain": [
       "array([[ 0,  1,  2,  3],\n",
       "       [ 4,  5,  6,  7],\n",
       "       [ 8,  9, 10, 11],\n",
       "       [12, 13, 14, 15]])"
      ]
     },
     "execution_count": 41,
     "metadata": {},
     "output_type": "execute_result"
    }
   ],
   "source": [
    "c"
   ]
  },
  {
   "cell_type": "markdown",
   "id": "6cbf49b3",
   "metadata": {},
   "source": [
    "# Summary: Array Splitting in NumPy\n",
    "**Concept:** Splitting arrays is useful for dividing data into manageable parts for analysis, training, or visualization.\n",
    "**How it works:** Use `np.hsplit` for horizontal (column-wise) splits and `np.vsplit` for vertical (row-wise) splits. Both require the number of splits to evenly divide the respective axis.\n",
    "**Extra Tips:** Splitting is commonly used in machine learning for separating features and labels, or dividing datasets into batches."
   ]
  },
  {
   "cell_type": "markdown",
   "id": "3ffc435c",
   "metadata": {},
   "source": [
    "# Splitting Arrays Horizontally with np.hsplit\n",
    "**Concept:** Splitting divides an array into multiple sub-arrays along a specified axis. Horizontal splitting separates columns.\n",
    "**How it works:** `np.hsplit(c, 2)` splits the array `c` into 2 equal sub-arrays along columns (axis 1). Each resulting array contains half the columns of the original.\n",
    "**Extra Tips:** The number of splits must evenly divide the number of columns. Use horizontal splitting to separate features or data segments."
   ]
  },
  {
   "cell_type": "code",
   "execution_count": 43,
   "id": "fe18565c",
   "metadata": {},
   "outputs": [
    {
     "data": {
      "text/plain": [
       "[array([[ 0,  1],\n",
       "        [ 4,  5],\n",
       "        [ 8,  9],\n",
       "        [12, 13]]),\n",
       " array([[ 2,  3],\n",
       "        [ 6,  7],\n",
       "        [10, 11],\n",
       "        [14, 15]])]"
      ]
     },
     "execution_count": 43,
     "metadata": {},
     "output_type": "execute_result"
    }
   ],
   "source": [
    "np.hsplit(c, 2)"
   ]
  },
  {
   "cell_type": "markdown",
   "id": "0beeff74",
   "metadata": {},
   "source": [
    "# Splitting Arrays Vertically with np.vsplit\n",
    "**Concept:** Vertical splitting divides an array into multiple sub-arrays along rows (axis 0).\n",
    "**How it works:** `np.vsplit(c, 2)` splits the array `c` into 2 equal sub-arrays along rows. Each resulting array contains half the rows of the original.\n",
    "**Extra Tips:** The number of splits must evenly divide the number of rows. Use vertical splitting to separate data samples or batches."
   ]
  },
  {
   "cell_type": "code",
   "execution_count": 44,
   "id": "9b2ff24a",
   "metadata": {},
   "outputs": [
    {
     "data": {
      "text/plain": [
       "[array([[0, 1, 2, 3],\n",
       "        [4, 5, 6, 7]]),\n",
       " array([[ 8,  9, 10, 11],\n",
       "        [12, 13, 14, 15]])]"
      ]
     },
     "execution_count": 44,
     "metadata": {},
     "output_type": "execute_result"
    }
   ],
   "source": [
    "np.vsplit(c, 2)"
   ]
  }
 ],
 "metadata": {
  "kernelspec": {
   "display_name": "base",
   "language": "python",
   "name": "python3"
  },
  "language_info": {
   "codemirror_mode": {
    "name": "ipython",
    "version": 3
   },
   "file_extension": ".py",
   "mimetype": "text/x-python",
   "name": "python",
   "nbconvert_exporter": "python",
   "pygments_lexer": "ipython3",
   "version": "3.13.5"
  }
 },
 "nbformat": 4,
 "nbformat_minor": 5
}
