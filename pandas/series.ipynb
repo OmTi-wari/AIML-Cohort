{
 "cells": [
  {
   "cell_type": "code",
   "execution_count": 4,
   "id": "85643cd4",
   "metadata": {},
   "outputs": [],
   "source": [
    "import pandas as pd\n",
    "import numpy as np"
   ]
  },
  {
   "cell_type": "markdown",
   "id": "a71b7dea",
   "metadata": {},
   "source": [
    "## What are pandas and numpy?\n",
    "\n",
    "**pandas** is a powerful Python library for data analysis and manipulation. It provides data structures like Series and DataFrame for handling tabular and labeled data efficiently.\n",
    "\n",
    "**numpy** is a fundamental package for scientific computing in Python. It offers support for large, multi-dimensional arrays and matrices, along with mathematical functions to operate on these arrays.\n",
    "\n",
    "We import these libraries to work with data in a structured and efficient way."
   ]
  },
  {
   "cell_type": "code",
   "execution_count": 5,
   "id": "4ce4b682",
   "metadata": {},
   "outputs": [],
   "source": [
    "labels = ['a', 'b', 'c']\n",
    "my_lists = [10, 20, 30]\n",
    "arr = np.array([10, 20, 30])\n",
    "d = {'a': 10, 'b': 20, 'c': 30}"
   ]
  },
  {
   "cell_type": "markdown",
   "id": "b1705fa2",
   "metadata": {},
   "source": [
    "## Python Data Structures: Labels, Lists, Arrays, and Dictionaries\n",
    "\n",
    "- **Labels** are identifiers used to name or index data, making it easier to access specific elements.\n",
    "- **Lists** are ordered collections of items, useful for storing sequences of values.\n",
    "- **NumPy Arrays** are efficient containers for numerical data, supporting fast mathematical operations.\n",
    "- **Dictionaries** store data as key-value pairs, allowing quick lookup by key.\n",
    "\n",
    "These structures are commonly used as the foundation for creating Pandas Series."
   ]
  },
  {
   "cell_type": "code",
   "execution_count": 6,
   "id": "a6bb8e9b",
   "metadata": {},
   "outputs": [
    {
     "data": {
      "text/plain": [
       "0    10\n",
       "1    20\n",
       "2    30\n",
       "dtype: int64"
      ]
     },
     "execution_count": 6,
     "metadata": {},
     "output_type": "execute_result"
    }
   ],
   "source": [
    "pd.Series(my_lists)"
   ]
  },
  {
   "cell_type": "markdown",
   "id": "5fc60d6c",
   "metadata": {},
   "source": [
    "## Creating a Pandas Series from a List\n",
    "\n",
    "A **Pandas Series** is a one-dimensional labeled array capable of holding any data type. You can create a Series from a Python list, which is useful for organizing and analyzing sequential data.\n",
    "\n",
    "This step demonstrates how to convert a simple list into a Pandas Series."
   ]
  },
  {
   "cell_type": "code",
   "execution_count": 7,
   "id": "8aa6f284",
   "metadata": {},
   "outputs": [
    {
     "data": {
      "text/plain": [
       "a    10\n",
       "b    20\n",
       "c    30\n",
       "dtype: int64"
      ]
     },
     "execution_count": 7,
     "metadata": {},
     "output_type": "execute_result"
    }
   ],
   "source": [
    "pd.Series(my_lists, index = labels)"
   ]
  },
  {
   "cell_type": "markdown",
   "id": "07b66749",
   "metadata": {},
   "source": [
    "## Custom Index in Pandas Series\n",
    "\n",
    "A Pandas Series can have a custom index (labels) instead of default integer indices. This makes data more meaningful and easier to access by label rather than position.\n",
    "\n",
    "Here, we assign custom labels to the Series created from a list."
   ]
  },
  {
   "cell_type": "code",
   "execution_count": 8,
   "id": "83ca60ad",
   "metadata": {},
   "outputs": [
    {
     "data": {
      "text/plain": [
       "0    10\n",
       "1    20\n",
       "2    30\n",
       "dtype: int64"
      ]
     },
     "execution_count": 8,
     "metadata": {},
     "output_type": "execute_result"
    }
   ],
   "source": [
    "pd.Series(arr)"
   ]
  },
  {
   "cell_type": "markdown",
   "id": "35af010c",
   "metadata": {},
   "source": [
    "## Creating a Pandas Series from a NumPy Array\n",
    "\n",
    "NumPy arrays are widely used for numerical computations in Python. Pandas can easily convert these arrays into Series, allowing you to use Pandas' data analysis tools on numerical data.\n",
    "\n",
    "This example shows how to create a Series from a NumPy array."
   ]
  },
  {
   "cell_type": "code",
   "execution_count": 9,
   "id": "819ad056",
   "metadata": {},
   "outputs": [
    {
     "data": {
      "text/plain": [
       "a    10\n",
       "b    20\n",
       "c    30\n",
       "dtype: int64"
      ]
     },
     "execution_count": 9,
     "metadata": {},
     "output_type": "execute_result"
    }
   ],
   "source": [
    "pd.Series(d)"
   ]
  },
  {
   "cell_type": "markdown",
   "id": "5bc74627",
   "metadata": {},
   "source": [
    "## Creating a Pandas Series from a Dictionary\n",
    "\n",
    "Dictionaries in Python store data as key-value pairs. When creating a Pandas Series from a dictionary, the keys become the index and the values become the data.\n",
    "\n",
    "This is useful for labeled data where each value has a unique identifier."
   ]
  },
  {
   "cell_type": "code",
   "execution_count": null,
   "id": "815aeed2",
   "metadata": {},
   "outputs": [],
   "source": []
  }
 ],
 "metadata": {
  "kernelspec": {
   "display_name": "base",
   "language": "python",
   "name": "python3"
  },
  "language_info": {
   "codemirror_mode": {
    "name": "ipython",
    "version": 3
   },
   "file_extension": ".py",
   "mimetype": "text/x-python",
   "name": "python",
   "nbconvert_exporter": "python",
   "pygments_lexer": "ipython3",
   "version": "3.13.5"
  }
 },
 "nbformat": 4,
 "nbformat_minor": 5
}
