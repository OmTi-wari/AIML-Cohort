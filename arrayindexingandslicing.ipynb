{
 "cells": [
  {
   "cell_type": "markdown",
   "id": "a14ac6fa",
   "metadata": {},
   "source": [
    "# Step 1: Importing NumPy\n",
    "**Description:** Import the NumPy library, which is essential for numerical operations in Python.\n",
    "**Concept:** NumPy provides support for arrays, matrices, and mathematical functions.\n",
    "**Function:** `import numpy as np` imports NumPy and gives it the alias `np` for easier usage throughout the notebook.\n",
    "**Prerequisite:** NumPy must be installed in your Python environment."
   ]
  },
  {
   "cell_type": "code",
   "execution_count": 8,
   "id": "f8239fc4",
   "metadata": {},
   "outputs": [],
   "source": [
    "import numpy as np"
   ]
  },
  {
   "cell_type": "markdown",
   "id": "a5830ac9",
   "metadata": {},
   "source": [
    "# Step 2: Creating a 1D Array\n",
    "**Description:** Create a 1-dimensional NumPy array with values from 11 to 20.\n",
    "**Concept:** Arrays are the core data structure in NumPy, allowing efficient storage and manipulation of numerical data.\n",
    "**Function:** `np.arange(11,21)` generates numbers from 11 to 20. `arr` stores the array.\n",
    "**Prerequisite:** NumPy must be imported as `np`."
   ]
  },
  {
   "cell_type": "code",
   "execution_count": 9,
   "id": "de87d954",
   "metadata": {},
   "outputs": [
    {
     "data": {
      "text/plain": [
       "array([11, 12, 13, 14, 15, 16, 17, 18, 19, 20])"
      ]
     },
     "execution_count": 9,
     "metadata": {},
     "output_type": "execute_result"
    }
   ],
   "source": [
    "arr = np.arange(11,21)\n",
    "arr"
   ]
  },
  {
   "cell_type": "markdown",
   "id": "f6742fca",
   "metadata": {},
   "source": [
    "# Step 3: Accessing an Array Element by Index\n",
    "**Description:** Retrieve the value at index 6 of the array `arr`.\n",
    "**Concept:** NumPy arrays are zero-indexed. Accessing elements by index is fundamental for data manipulation.\n",
    "**Function:** `arr[6]` returns the 7th element of the array.\n",
    "**Prerequisite:** The array `arr` must be defined."
   ]
  },
  {
   "cell_type": "code",
   "execution_count": 10,
   "id": "0a656c74",
   "metadata": {},
   "outputs": [
    {
     "data": {
      "text/plain": [
       "np.int64(17)"
      ]
     },
     "execution_count": 10,
     "metadata": {},
     "output_type": "execute_result"
    }
   ],
   "source": [
    "arr[6]"
   ]
  },
  {
   "cell_type": "markdown",
   "id": "926976dc",
   "metadata": {},
   "source": [
    "# Step 4: Accessing Another Array Element by Index\n",
    "**Description:** Retrieve the value at index 9 of the array `arr`.\n",
    "**Concept:** Indexing allows you to access specific elements in an array.\n",
    "**Function:** `arr[9]` returns the 10th element of the array.\n",
    "**Prerequisite:** The array `arr` must be defined."
   ]
  },
  {
   "cell_type": "code",
   "execution_count": 5,
   "id": "253554df",
   "metadata": {},
   "outputs": [
    {
     "data": {
      "text/plain": [
       "np.int64(20)"
      ]
     },
     "execution_count": 5,
     "metadata": {},
     "output_type": "execute_result"
    }
   ],
   "source": [
    "arr[9]"
   ]
  },
  {
   "cell_type": "markdown",
   "id": "5a947b21",
   "metadata": {},
   "source": [
    "# Step 5: Slicing a 1D Array\n",
    "**Description:** Extract a subarray from index 1 to 4 (inclusive of 1, exclusive of 5).\n",
    "**Concept:** Slicing allows you to select a range of elements from an array using the syntax `arr[start:end]`.\n",
    "**Function:** `arr[1:5]` returns elements at indices 1, 2, 3, and 4.\n",
    "**Prerequisite:** The array `arr` must be defined."
   ]
  },
  {
   "cell_type": "code",
   "execution_count": 6,
   "id": "c1374326",
   "metadata": {},
   "outputs": [
    {
     "data": {
      "text/plain": [
       "array([12, 13, 14, 15])"
      ]
     },
     "execution_count": 6,
     "metadata": {},
     "output_type": "execute_result"
    }
   ],
   "source": [
    "arr[1:5]"
   ]
  },
  {
   "cell_type": "markdown",
   "id": "ec9a1f36",
   "metadata": {},
   "source": [
    "# Step 6: Slicing from Start to Index\n",
    "**Description:** Extract a subarray from the beginning up to index 4 (exclusive).\n",
    "**Concept:** Omitting the start index defaults to 0. Slicing is a powerful way to access parts of an array.\n",
    "**Function:** `arr[:5]` returns elements at indices 0, 1, 2, 3, and 4.\n",
    "**Prerequisite:** The array `arr` must be defined."
   ]
  },
  {
   "cell_type": "code",
   "execution_count": 7,
   "id": "e9894aba",
   "metadata": {},
   "outputs": [
    {
     "data": {
      "text/plain": [
       "array([11, 12, 13, 14, 15])"
      ]
     },
     "execution_count": 7,
     "metadata": {},
     "output_type": "execute_result"
    }
   ],
   "source": [
    "arr[:5]"
   ]
  },
  {
   "cell_type": "markdown",
   "id": "774ed90c",
   "metadata": {},
   "source": [
    "# Step 7: Slicing the Entire Array\n",
    "**Description:** Extract all elements from the array.\n",
    "**Concept:** Using `:` with no start or end returns the whole array.\n",
    "**Function:** `arr[:]` returns all elements.\n",
    "**Prerequisite:** The array `arr` must be defined."
   ]
  },
  {
   "cell_type": "code",
   "execution_count": 8,
   "id": "7f287fce",
   "metadata": {},
   "outputs": [
    {
     "data": {
      "text/plain": [
       "array([11, 12, 13, 14, 15, 16, 17, 18, 19, 20])"
      ]
     },
     "execution_count": 8,
     "metadata": {},
     "output_type": "execute_result"
    }
   ],
   "source": [
    "arr[:]"
   ]
  },
  {
   "cell_type": "markdown",
   "id": "3a85b018",
   "metadata": {},
   "source": [
    "# Step 8: Slicing with a Step\n",
    "**Description:** Extract every second element from index 3 to the end.\n",
    "**Concept:** Slicing can include a step value: `arr[start:end:step]`.\n",
    "**Function:** `arr[3::2]` returns elements at indices 3, 5, 7, etc.\n",
    "**Prerequisite:** The array `arr` must be defined."
   ]
  },
  {
   "cell_type": "code",
   "execution_count": 11,
   "id": "72e371dd",
   "metadata": {},
   "outputs": [
    {
     "data": {
      "text/plain": [
       "array([14, 16, 18, 20])"
      ]
     },
     "execution_count": 11,
     "metadata": {},
     "output_type": "execute_result"
    }
   ],
   "source": [
    "arr_slice = arr[3::2]\n",
    "arr_slice"
   ]
  },
  {
   "cell_type": "markdown",
   "id": "2365ec95",
   "metadata": {},
   "source": [
    "# Step 9: Creating and Reshaping a 2D Array\n",
    "**Description:** Create a 2D array with values from 1 to 30, reshaped into 6 rows and 5 columns.\n",
    "**Concept:** Reshaping changes the dimensions of an array without changing its data. 2D arrays are useful for representing matrices and tables.\n",
    "**Function:** `np.arange(1,31).reshape(6,5)` creates a 2D array of shape (6,5).\n",
    "**Prerequisite:** NumPy must be imported as `np`."
   ]
  },
  {
   "cell_type": "code",
   "execution_count": 11,
   "id": "574b54c1",
   "metadata": {},
   "outputs": [
    {
     "data": {
      "text/plain": [
       "array([[ 1,  2,  3,  4,  5],\n",
       "       [ 6,  7,  8,  9, 10],\n",
       "       [11, 12, 13, 14, 15],\n",
       "       [16, 17, 18, 19, 20],\n",
       "       [21, 22, 23, 24, 25],\n",
       "       [26, 27, 28, 29, 30]])"
      ]
     },
     "execution_count": 11,
     "metadata": {},
     "output_type": "execute_result"
    }
   ],
   "source": [
    "arr = np.arange(1,31).reshape(6,5)\n",
    "arr"
   ]
  },
  {
   "cell_type": "markdown",
   "id": "01ad697d",
   "metadata": {},
   "source": [
    "# Step 10: Accessing a Row in a 2D Array\n",
    "**Description:** Retrieve the second row of the 2D array `arr`.\n",
    "**Concept:** In 2D arrays, rows and columns can be accessed using indices. `arr[row_index]` returns the specified row.\n",
    "**Function:** `arr[1]` returns the second row (indexing starts at 0).\n",
    "**Prerequisite:** The 2D array `arr` must be defined."
   ]
  },
  {
   "cell_type": "code",
   "execution_count": 14,
   "id": "4dc60ca5",
   "metadata": {},
   "outputs": [
    {
     "data": {
      "text/plain": [
       "array([ 6,  7,  8,  9, 10])"
      ]
     },
     "execution_count": 14,
     "metadata": {},
     "output_type": "execute_result"
    }
   ],
   "source": [
    "arr[1]"
   ]
  },
  {
   "cell_type": "markdown",
   "id": "b25607d6",
   "metadata": {},
   "source": [
    "# Step 11: Accessing an Element in a 2D Array\n",
    "**Description:** Retrieve the element at the first row and first column of the 2D array `arr`.\n",
    "**Concept:** Elements in 2D arrays are accessed using two indices: `arr[row, column]`.\n",
    "**Function:** `arr[0,0]` returns the element at the top-left corner.\n",
    "**Prerequisite:** The 2D array `arr` must be defined."
   ]
  },
  {
   "cell_type": "code",
   "execution_count": 15,
   "id": "54d115cf",
   "metadata": {},
   "outputs": [
    {
     "data": {
      "text/plain": [
       "np.int64(1)"
      ]
     },
     "execution_count": 15,
     "metadata": {},
     "output_type": "execute_result"
    }
   ],
   "source": [
    "arr[0,0]"
   ]
  },
  {
   "cell_type": "markdown",
   "id": "afb5534a",
   "metadata": {},
   "source": [
    "# Step 12: Accessing a Specific Element in a 2D Array\n",
    "**Description:** Retrieve the element at the first row and last column of the 2D array `arr`.\n",
    "**Concept:** You can access any element in a 2D array using its row and column indices.\n",
    "**Function:** `arr[0,4]` returns the element in the first row, fifth column.\n",
    "**Prerequisite:** The 2D array `arr` must be defined."
   ]
  },
  {
   "cell_type": "code",
   "execution_count": 17,
   "id": "8bb5282b",
   "metadata": {},
   "outputs": [
    {
     "data": {
      "text/plain": [
       "np.int64(5)"
      ]
     },
     "execution_count": 17,
     "metadata": {},
     "output_type": "execute_result"
    }
   ],
   "source": [
    "arr[0,4]"
   ]
  },
  {
   "cell_type": "markdown",
   "id": "72de5b68",
   "metadata": {},
   "source": [
    "# Step 12: Accessing a Specific Element in a 2D Array\n",
    "**Description:** Retrieve the element at the first row and last column of the 2D array `arr`.\n",
    "**Concept:** You can access any element in a 2D array using its row and column indices.\n",
    "**Function:** `arr[0,4]` returns the element in the first row, fifth column.\n",
    "**Prerequisite:** The 2D array `arr` must be defined."
   ]
  },
  {
   "cell_type": "code",
   "execution_count": 12,
   "id": "5f8390b5",
   "metadata": {},
   "outputs": [
    {
     "data": {
      "text/plain": [
       "array([[2, 3],\n",
       "       [7, 8]])"
      ]
     },
     "execution_count": 12,
     "metadata": {},
     "output_type": "execute_result"
    }
   ],
   "source": [
    "slice = arr[0:2, 1:3]\n",
    "slice"
   ]
  },
  {
   "cell_type": "markdown",
   "id": "006eaea7",
   "metadata": {},
   "source": [
    "# Step 14: Slicing the Lower-Right Submatrix\n",
    "**Description:** Extract the submatrix from row 3 to the end and column 3 to the end of the 2D array `arr`.\n",
    "**Concept:** Slicing with open-ended indices allows you to select all remaining rows and columns from a starting point.\n",
    "**Function:** `arr[3:, 3:]` returns the lower-right submatrix.\n",
    "**Prerequisite:** The 2D array `arr` must be defined."
   ]
  },
  {
   "cell_type": "code",
   "execution_count": 15,
   "id": "f5352993",
   "metadata": {},
   "outputs": [
    {
     "data": {
      "text/plain": [
       "array([[19, 20],\n",
       "       [24, 25],\n",
       "       [29, 30]])"
      ]
     },
     "execution_count": 15,
     "metadata": {},
     "output_type": "execute_result"
    }
   ],
   "source": [
    "slice2 = arr[3: , 3: ]\n",
    "slice2"
   ]
  },
  {
   "cell_type": "markdown",
   "id": "d1b879b3",
   "metadata": {},
   "source": [
    "# Step 15: Selecting a Column from a 2D Array\n",
    "**Description:** Retrieve all elements from the third column of the 2D array `arr`.\n",
    "**Concept:** You can select an entire column by specifying all rows and a single column index: `arr[:, column_index]`.\n",
    "**Function:** `arr[:, 2]` returns the third column.\n",
    "**Prerequisite:** The 2D array `arr` must be defined."
   ]
  },
  {
   "cell_type": "code",
   "execution_count": 16,
   "id": "011205eb",
   "metadata": {},
   "outputs": [
    {
     "data": {
      "text/plain": [
       "array([ 3,  8, 13, 18, 23, 28])"
      ]
     },
     "execution_count": 16,
     "metadata": {},
     "output_type": "execute_result"
    }
   ],
   "source": [
    "arr[: , 2]"
   ]
  },
  {
   "cell_type": "markdown",
   "id": "86092d6d",
   "metadata": {},
   "source": [
    "# Step 16: Creating a New 1D Array\n",
    "**Description:** Create a 1-dimensional NumPy array with values from 21 to 30.\n",
    "**Concept:** Arrays can be redefined or created as needed for different operations. This step demonstrates array creation with a new range.\n",
    "**Function:** `np.arange(21,31)` generates numbers from 21 to 30. `arr` stores the array.\n",
    "**Prerequisite:** NumPy must be imported as `np`."
   ]
  },
  {
   "cell_type": "code",
   "execution_count": 18,
   "id": "1b4cb3aa",
   "metadata": {},
   "outputs": [
    {
     "data": {
      "text/plain": [
       "array([21, 22, 23, 24, 25, 26, 27, 28, 29, 30])"
      ]
     },
     "execution_count": 18,
     "metadata": {},
     "output_type": "execute_result"
    }
   ],
   "source": [
    "arr = np.arange(21,31)\n",
    "arr"
   ]
  },
  {
   "cell_type": "markdown",
   "id": "097bd3c4",
   "metadata": {},
   "source": [
    "# Step 17: Creating a Boolean Index for Even Numbers\n",
    "**Description:** Generate a boolean array indicating which elements in `arr` are even.\n",
    "**Concept:** Boolean indexing allows you to filter arrays based on conditions. The result is an array of True/False values.\n",
    "**Function:** `arr % 2 == 0` returns True for even elements, False otherwise. `bool_index` stores the result.\n",
    "**Prerequisite:** The array `arr` must be defined."
   ]
  },
  {
   "cell_type": "code",
   "execution_count": 24,
   "id": "13adfe95",
   "metadata": {},
   "outputs": [
    {
     "data": {
      "text/plain": [
       "array([ True,  True,  True,  True,  True])"
      ]
     },
     "execution_count": 24,
     "metadata": {},
     "output_type": "execute_result"
    }
   ],
   "source": [
    "bool_index = arr%2 == 0\n",
    "bool_index"
   ]
  },
  {
   "cell_type": "markdown",
   "id": "8a5f23d3",
   "metadata": {},
   "source": [
    "# Step 18: Selecting Even Elements Using Boolean Indexing\n",
    "**Description:** Use the boolean index to extract all even elements from the array `arr`.\n",
    "**Concept:** Boolean indexing is a powerful way to select elements that meet a condition.\n",
    "**Function:** `arr[bool_index]` returns all even elements in `arr`.\n",
    "**Prerequisite:** The array `arr` and `bool_index` must be defined."
   ]
  },
  {
   "cell_type": "code",
   "execution_count": 25,
   "id": "52d5a923",
   "metadata": {},
   "outputs": [
    {
     "data": {
      "text/plain": [
       "array([22, 24, 26, 28, 30])"
      ]
     },
     "execution_count": 25,
     "metadata": {},
     "output_type": "execute_result"
    }
   ],
   "source": [
    "bool_index = arr%2 == 0\n",
    "arr[bool_index]"
   ]
  },
  {
   "cell_type": "markdown",
   "id": "5e28233d",
   "metadata": {},
   "source": [
    "# Step 19: Reassigning the Array to Even Elements\n",
    "**Description:** Update the array `arr` to contain only the even elements previously selected.\n",
    "**Concept:** Arrays can be reassigned to new values, allowing you to focus on subsets of data for further analysis.\n",
    "**Function:** `arr = arr[bool_index]` updates `arr` to only even numbers.\n",
    "**Prerequisite:** The array `arr` and `bool_index` must be defined."
   ]
  },
  {
   "cell_type": "code",
   "execution_count": 26,
   "id": "7a47ae6c",
   "metadata": {},
   "outputs": [
    {
     "data": {
      "text/plain": [
       "array([22, 24, 26, 28, 30])"
      ]
     },
     "execution_count": 26,
     "metadata": {},
     "output_type": "execute_result"
    }
   ],
   "source": [
    "arr = arr[bool_index]\n",
    "arr"
   ]
  }
 ],
 "metadata": {
  "kernelspec": {
   "display_name": "base",
   "language": "python",
   "name": "python3"
  },
  "language_info": {
   "codemirror_mode": {
    "name": "ipython",
    "version": 3
   },
   "file_extension": ".py",
   "mimetype": "text/x-python",
   "name": "python",
   "nbconvert_exporter": "python",
   "pygments_lexer": "ipython3",
   "version": "3.13.5"
  }
 },
 "nbformat": 4,
 "nbformat_minor": 5
}
